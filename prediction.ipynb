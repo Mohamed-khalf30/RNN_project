{
 "cells": [
  {
   "cell_type": "code",
   "execution_count": 1,
   "metadata": {},
   "outputs": [],
   "source": [
    "# Step 1: Import Libraries and Load the Model\n",
    "import numpy as np\n",
    "import tensorflow as tf\n",
    "from tensorflow.keras.datasets import imdb\n",
    "from tensorflow.keras.preprocessing import sequence\n",
    "from tensorflow.keras.models import load_model"
   ]
  },
  {
   "cell_type": "code",
   "execution_count": 2,
   "metadata": {},
   "outputs": [],
   "source": [
    "\n",
    "# Load the IMDB dataset word index\n",
    "word_index = imdb.get_word_index()\n",
    "reverse_word_index = {value: key for key, value in word_index.items()}"
   ]
  },
  {
   "cell_type": "code",
   "execution_count": 3,
   "metadata": {},
   "outputs": [
    {
     "name": "stderr",
     "output_type": "stream",
     "text": [
      "WARNING:absl:Compiled the loaded model, but the compiled metrics have yet to be built. `model.compile_metrics` will be empty until you train or evaluate the model.\n"
     ]
    },
    {
     "data": {
      "text/html": [
       "<pre style=\"white-space:pre;overflow-x:auto;line-height:normal;font-family:Menlo,'DejaVu Sans Mono',consolas,'Courier New',monospace\"><span style=\"font-weight: bold\">Model: \"sequential\"</span>\n",
       "</pre>\n"
      ],
      "text/plain": [
       "\u001b[1mModel: \"sequential\"\u001b[0m\n"
      ]
     },
     "metadata": {},
     "output_type": "display_data"
    },
    {
     "data": {
      "text/html": [
       "<pre style=\"white-space:pre;overflow-x:auto;line-height:normal;font-family:Menlo,'DejaVu Sans Mono',consolas,'Courier New',monospace\">┏━━━━━━━━━━━━━━━━━━━━━━━━━━━━━━━━━┳━━━━━━━━━━━━━━━━━━━━━━━━┳━━━━━━━━━━━━━━━┓\n",
       "┃<span style=\"font-weight: bold\"> Layer (type)                    </span>┃<span style=\"font-weight: bold\"> Output Shape           </span>┃<span style=\"font-weight: bold\">       Param # </span>┃\n",
       "┡━━━━━━━━━━━━━━━━━━━━━━━━━━━━━━━━━╇━━━━━━━━━━━━━━━━━━━━━━━━╇━━━━━━━━━━━━━━━┩\n",
       "│ embedding (<span style=\"color: #0087ff; text-decoration-color: #0087ff\">Embedding</span>)           │ (<span style=\"color: #00af00; text-decoration-color: #00af00\">32</span>, <span style=\"color: #00af00; text-decoration-color: #00af00\">500</span>, <span style=\"color: #00af00; text-decoration-color: #00af00\">128</span>)         │     <span style=\"color: #00af00; text-decoration-color: #00af00\">1,280,000</span> │\n",
       "├─────────────────────────────────┼────────────────────────┼───────────────┤\n",
       "│ simple_rnn (<span style=\"color: #0087ff; text-decoration-color: #0087ff\">SimpleRNN</span>)          │ (<span style=\"color: #00af00; text-decoration-color: #00af00\">32</span>, <span style=\"color: #00af00; text-decoration-color: #00af00\">128</span>)              │        <span style=\"color: #00af00; text-decoration-color: #00af00\">32,896</span> │\n",
       "├─────────────────────────────────┼────────────────────────┼───────────────┤\n",
       "│ dense (<span style=\"color: #0087ff; text-decoration-color: #0087ff\">Dense</span>)                   │ (<span style=\"color: #00af00; text-decoration-color: #00af00\">32</span>, <span style=\"color: #00af00; text-decoration-color: #00af00\">1</span>)                │           <span style=\"color: #00af00; text-decoration-color: #00af00\">129</span> │\n",
       "└─────────────────────────────────┴────────────────────────┴───────────────┘\n",
       "</pre>\n"
      ],
      "text/plain": [
       "┏━━━━━━━━━━━━━━━━━━━━━━━━━━━━━━━━━┳━━━━━━━━━━━━━━━━━━━━━━━━┳━━━━━━━━━━━━━━━┓\n",
       "┃\u001b[1m \u001b[0m\u001b[1mLayer (type)                   \u001b[0m\u001b[1m \u001b[0m┃\u001b[1m \u001b[0m\u001b[1mOutput Shape          \u001b[0m\u001b[1m \u001b[0m┃\u001b[1m \u001b[0m\u001b[1m      Param #\u001b[0m\u001b[1m \u001b[0m┃\n",
       "┡━━━━━━━━━━━━━━━━━━━━━━━━━━━━━━━━━╇━━━━━━━━━━━━━━━━━━━━━━━━╇━━━━━━━━━━━━━━━┩\n",
       "│ embedding (\u001b[38;5;33mEmbedding\u001b[0m)           │ (\u001b[38;5;34m32\u001b[0m, \u001b[38;5;34m500\u001b[0m, \u001b[38;5;34m128\u001b[0m)         │     \u001b[38;5;34m1,280,000\u001b[0m │\n",
       "├─────────────────────────────────┼────────────────────────┼───────────────┤\n",
       "│ simple_rnn (\u001b[38;5;33mSimpleRNN\u001b[0m)          │ (\u001b[38;5;34m32\u001b[0m, \u001b[38;5;34m128\u001b[0m)              │        \u001b[38;5;34m32,896\u001b[0m │\n",
       "├─────────────────────────────────┼────────────────────────┼───────────────┤\n",
       "│ dense (\u001b[38;5;33mDense\u001b[0m)                   │ (\u001b[38;5;34m32\u001b[0m, \u001b[38;5;34m1\u001b[0m)                │           \u001b[38;5;34m129\u001b[0m │\n",
       "└─────────────────────────────────┴────────────────────────┴───────────────┘\n"
      ]
     },
     "metadata": {},
     "output_type": "display_data"
    },
    {
     "data": {
      "text/html": [
       "<pre style=\"white-space:pre;overflow-x:auto;line-height:normal;font-family:Menlo,'DejaVu Sans Mono',consolas,'Courier New',monospace\"><span style=\"font-weight: bold\"> Total params: </span><span style=\"color: #00af00; text-decoration-color: #00af00\">1,313,027</span> (5.01 MB)\n",
       "</pre>\n"
      ],
      "text/plain": [
       "\u001b[1m Total params: \u001b[0m\u001b[38;5;34m1,313,027\u001b[0m (5.01 MB)\n"
      ]
     },
     "metadata": {},
     "output_type": "display_data"
    },
    {
     "data": {
      "text/html": [
       "<pre style=\"white-space:pre;overflow-x:auto;line-height:normal;font-family:Menlo,'DejaVu Sans Mono',consolas,'Courier New',monospace\"><span style=\"font-weight: bold\"> Trainable params: </span><span style=\"color: #00af00; text-decoration-color: #00af00\">1,313,025</span> (5.01 MB)\n",
       "</pre>\n"
      ],
      "text/plain": [
       "\u001b[1m Trainable params: \u001b[0m\u001b[38;5;34m1,313,025\u001b[0m (5.01 MB)\n"
      ]
     },
     "metadata": {},
     "output_type": "display_data"
    },
    {
     "data": {
      "text/html": [
       "<pre style=\"white-space:pre;overflow-x:auto;line-height:normal;font-family:Menlo,'DejaVu Sans Mono',consolas,'Courier New',monospace\"><span style=\"font-weight: bold\"> Non-trainable params: </span><span style=\"color: #00af00; text-decoration-color: #00af00\">0</span> (0.00 B)\n",
       "</pre>\n"
      ],
      "text/plain": [
       "\u001b[1m Non-trainable params: \u001b[0m\u001b[38;5;34m0\u001b[0m (0.00 B)\n"
      ]
     },
     "metadata": {},
     "output_type": "display_data"
    },
    {
     "data": {
      "text/html": [
       "<pre style=\"white-space:pre;overflow-x:auto;line-height:normal;font-family:Menlo,'DejaVu Sans Mono',consolas,'Courier New',monospace\"><span style=\"font-weight: bold\"> Optimizer params: </span><span style=\"color: #00af00; text-decoration-color: #00af00\">2</span> (12.00 B)\n",
       "</pre>\n"
      ],
      "text/plain": [
       "\u001b[1m Optimizer params: \u001b[0m\u001b[38;5;34m2\u001b[0m (12.00 B)\n"
      ]
     },
     "metadata": {},
     "output_type": "display_data"
    }
   ],
   "source": [
    "# Load the pre-trained model with ReLU activation\n",
    "model = load_model('simple_rnn_imdb.h5')\n",
    "model.summary()"
   ]
  },
  {
   "cell_type": "code",
   "execution_count": 4,
   "metadata": {},
   "outputs": [
    {
     "data": {
      "text/plain": [
       "[array([[-0.97393954, -0.17278212,  0.98346746, ..., -1.0577624 ,\n",
       "         -0.203268  , -0.41879612],\n",
       "        [ 0.02316849, -0.05176921, -0.01350091, ..., -0.00868107,\n",
       "         -0.10588711, -0.05974606],\n",
       "        [-0.18335368, -0.05345896,  0.13332447, ..., -0.14324777,\n",
       "         -0.02158885, -0.1163239 ],\n",
       "        ...,\n",
       "        [ 0.00498846, -0.00292057, -0.00445773, ...,  0.00571358,\n",
       "          0.03321169,  0.00331237],\n",
       "        [ 0.03308596,  0.06002421, -0.12360834, ..., -0.05081929,\n",
       "          0.10638563, -0.0158987 ],\n",
       "        [ 0.03969975, -0.13226044, -0.06154478, ...,  0.09134652,\n",
       "          0.10242722,  0.05628306]], dtype=float32),\n",
       " array([[ 0.16056255, -0.01908858,  0.1158686 , ...,  0.05720595,\n",
       "         -0.18599159,  0.04235334],\n",
       "        [ 0.10751142, -0.03182931,  0.01155232, ..., -0.20022224,\n",
       "          0.09637667,  0.10132768],\n",
       "        [-0.09349821,  0.01435731, -0.0810835 , ..., -0.12777884,\n",
       "         -0.11502607, -0.09966042],\n",
       "        ...,\n",
       "        [-0.0374969 ,  0.04952698,  0.09488646, ...,  0.0418603 ,\n",
       "         -0.16836749,  0.09918946],\n",
       "        [-0.03242628,  0.01561018,  0.19243123, ...,  0.11553881,\n",
       "          0.06007687, -0.08789737],\n",
       "        [ 0.09817791, -0.06528644,  0.11224949, ..., -0.07301386,\n",
       "          0.11684587,  0.16026427]], dtype=float32),\n",
       " array([[ 0.02573577,  0.02695587,  0.02627276, ..., -0.11176264,\n",
       "          0.2675426 ,  0.08943687],\n",
       "        [-0.17854486, -0.02861054, -0.13578999, ...,  0.06261063,\n",
       "         -0.07679643, -0.09062785],\n",
       "        [ 0.10271144, -0.21266197,  0.06954841, ..., -0.20237626,\n",
       "         -0.07956898, -0.1153506 ],\n",
       "        ...,\n",
       "        [ 0.03346205,  0.02958023, -0.13726997, ..., -0.02022587,\n",
       "         -0.07538639,  0.11598395],\n",
       "        [-0.06741803, -0.12793215,  0.09710664, ...,  0.04899528,\n",
       "         -0.01380009, -0.02941337],\n",
       "        [-0.05121218,  0.07369264,  0.07911093, ...,  0.02730864,\n",
       "         -0.03012255,  0.07377498]], dtype=float32),\n",
       " array([-0.01420525, -0.00626851, -0.05637877,  0.00594414, -0.00294023,\n",
       "        -0.06202046,  0.0248524 , -0.00953316, -0.00955011, -0.03486209,\n",
       "        -0.04436764, -0.01459783,  0.0099377 , -0.03496157,  0.04802418,\n",
       "        -0.0137405 , -0.00074379, -0.06615634, -0.0160985 , -0.01992856,\n",
       "         0.04798782, -0.01860377, -0.0549367 , -0.00377461, -0.00536466,\n",
       "        -0.01083067, -0.09552815,  0.05378523, -0.01456259,  0.01905648,\n",
       "        -0.00405703,  0.00148228, -0.01884836,  0.00121639, -0.02836592,\n",
       "        -0.04713994, -0.01756965,  0.04429303, -0.01862073, -0.05376932,\n",
       "        -0.01374478, -0.01056517,  0.05508012, -0.01480317, -0.06265585,\n",
       "         0.07504354, -0.03472125, -0.05345031, -0.03365821,  0.00910583,\n",
       "        -0.06117187,  0.04861454, -0.00699778, -0.00747857,  0.01134522,\n",
       "        -0.03018368, -0.03804206, -0.01405918, -0.01740327, -0.05586524,\n",
       "         0.00955023, -0.02633742,  0.01618323, -0.01124654, -0.03361893,\n",
       "         0.01323905,  0.01275589,  0.00215452, -0.05021521, -0.0119602 ,\n",
       "        -0.07112344,  0.00841637,  0.02838952, -0.04467154, -0.03338683,\n",
       "        -0.02891823,  0.00187927,  0.05302998,  0.0525902 , -0.00844441,\n",
       "        -0.01593176, -0.0493457 , -0.02088763, -0.03936686, -0.05617764,\n",
       "        -0.02263624, -0.0244744 , -0.01832305, -0.01301757,  0.03057288,\n",
       "        -0.0627612 , -0.01366349, -0.00607885, -0.00031177,  0.0525369 ,\n",
       "        -0.06125017, -0.02721407, -0.05594022,  0.00069039,  0.0442059 ,\n",
       "        -0.0359777 ,  0.02619376,  0.01499824, -0.03512979, -0.05241629,\n",
       "        -0.04193544, -0.033793  , -0.0044775 , -0.06448849, -0.06714706,\n",
       "        -0.04692374,  0.01006082,  0.04124427, -0.02736924,  0.045136  ,\n",
       "        -0.05522885, -0.0404071 ,  0.04761342,  0.02551791,  0.01574237,\n",
       "         0.06044465, -0.00751783,  0.01690126, -0.04053457,  0.03681318,\n",
       "        -0.04700287,  0.04306427, -0.01837898], dtype=float32),\n",
       " array([[-1.54524177e-01],\n",
       "        [ 4.26230490e-01],\n",
       "        [-8.90255570e-02],\n",
       "        [-1.66931316e-01],\n",
       "        [-8.24408606e-02],\n",
       "        [ 3.76145914e-02],\n",
       "        [ 2.01677963e-01],\n",
       "        [-1.35156423e-01],\n",
       "        [-1.04039297e-01],\n",
       "        [-1.78940192e-01],\n",
       "        [ 9.23976004e-02],\n",
       "        [-1.54467031e-01],\n",
       "        [-1.00752659e-01],\n",
       "        [-3.69251817e-02],\n",
       "        [ 5.92722110e-02],\n",
       "        [ 1.46171719e-01],\n",
       "        [-1.05808921e-01],\n",
       "        [ 1.43300891e-01],\n",
       "        [-1.35010526e-01],\n",
       "        [-4.64960467e-03],\n",
       "        [-1.07533641e-01],\n",
       "        [ 8.05988535e-02],\n",
       "        [-2.49546748e-02],\n",
       "        [-7.14591384e-01],\n",
       "        [-1.55765101e-01],\n",
       "        [-1.44315735e-01],\n",
       "        [ 1.62985548e-01],\n",
       "        [-3.06919422e-02],\n",
       "        [-1.39867710e-02],\n",
       "        [ 2.26624399e-01],\n",
       "        [ 1.34469181e-01],\n",
       "        [-1.22300223e-01],\n",
       "        [-7.99897537e-02],\n",
       "        [-9.42860469e-02],\n",
       "        [ 9.97168291e-03],\n",
       "        [-1.34297043e-01],\n",
       "        [-1.48723245e-01],\n",
       "        [-1.47435784e-01],\n",
       "        [ 1.62555963e-01],\n",
       "        [-2.25867316e-01],\n",
       "        [ 3.20625529e-02],\n",
       "        [-1.05575500e-02],\n",
       "        [ 1.82396755e-01],\n",
       "        [ 7.05089942e-02],\n",
       "        [-6.60586953e-02],\n",
       "        [ 1.18034601e-03],\n",
       "        [ 5.73481061e-02],\n",
       "        [ 1.64084267e-02],\n",
       "        [ 7.11188912e-02],\n",
       "        [ 1.50874585e-01],\n",
       "        [-3.70749924e-03],\n",
       "        [-9.21606719e-02],\n",
       "        [-1.85074300e-01],\n",
       "        [-1.15079850e-01],\n",
       "        [ 6.39749765e-02],\n",
       "        [-1.10213165e-04],\n",
       "        [-1.63539365e-01],\n",
       "        [ 3.78267542e-02],\n",
       "        [-1.16880670e-01],\n",
       "        [ 9.58524793e-02],\n",
       "        [ 1.97571158e-01],\n",
       "        [-8.89993384e-02],\n",
       "        [-1.68989345e-01],\n",
       "        [ 6.97362423e-02],\n",
       "        [-2.86971759e-02],\n",
       "        [ 1.55274034e-01],\n",
       "        [ 1.92293286e-01],\n",
       "        [ 1.33487493e-01],\n",
       "        [-6.13109767e-02],\n",
       "        [-1.88782394e-01],\n",
       "        [ 8.48866776e-02],\n",
       "        [-1.25716299e-01],\n",
       "        [ 5.34616821e-02],\n",
       "        [-3.77614275e-02],\n",
       "        [-2.89526675e-02],\n",
       "        [-1.95094407e-01],\n",
       "        [ 1.63423136e-01],\n",
       "        [-1.29535526e-01],\n",
       "        [ 3.63216400e-02],\n",
       "        [-5.23080863e-02],\n",
       "        [-5.64019345e-02],\n",
       "        [ 5.44431480e-03],\n",
       "        [-1.49667263e-01],\n",
       "        [-5.75576052e-02],\n",
       "        [ 4.83672433e-02],\n",
       "        [ 6.27404526e-02],\n",
       "        [-6.93963766e-02],\n",
       "        [ 7.43431896e-02],\n",
       "        [ 9.95360408e-03],\n",
       "        [-3.64781357e-02],\n",
       "        [-2.14958817e-01],\n",
       "        [-1.96607992e-01],\n",
       "        [ 1.42388314e-01],\n",
       "        [-1.41857579e-01],\n",
       "        [ 2.34350264e-01],\n",
       "        [-1.66377410e-01],\n",
       "        [ 9.29810293e-03],\n",
       "        [ 3.85009833e-02],\n",
       "        [ 2.12477259e-02],\n",
       "        [-7.89215267e-02],\n",
       "        [-3.07436943e-01],\n",
       "        [ 2.16593668e-01],\n",
       "        [ 3.03505547e-03],\n",
       "        [-1.24027804e-01],\n",
       "        [ 8.61300901e-02],\n",
       "        [ 1.40353993e-01],\n",
       "        [-1.54411495e-01],\n",
       "        [ 7.03705251e-02],\n",
       "        [-5.20916693e-02],\n",
       "        [ 5.92604429e-02],\n",
       "        [-2.22250551e-01],\n",
       "        [ 3.67506593e-02],\n",
       "        [ 5.72870858e-02],\n",
       "        [ 1.60365477e-01],\n",
       "        [-2.89812405e-03],\n",
       "        [-8.09937194e-02],\n",
       "        [ 2.03749374e-01],\n",
       "        [ 1.55368522e-01],\n",
       "        [-7.05538765e-02],\n",
       "        [ 1.94052920e-01],\n",
       "        [ 1.74382567e-01],\n",
       "        [ 6.34358227e-02],\n",
       "        [ 4.31286134e-02],\n",
       "        [ 4.99183349e-02],\n",
       "        [-1.03153005e-01],\n",
       "        [-1.87415749e-01],\n",
       "        [ 1.87447309e-01],\n",
       "        [-4.85478416e-02]], dtype=float32),\n",
       " array([-0.49873182], dtype=float32)]"
      ]
     },
     "execution_count": 4,
     "metadata": {},
     "output_type": "execute_result"
    }
   ],
   "source": [
    "model.get_weights()"
   ]
  },
  {
   "cell_type": "code",
   "execution_count": 5,
   "metadata": {},
   "outputs": [],
   "source": [
    "# Step 2: Helper Functions\n",
    "# Function to decode reviews\n",
    "def decode_review(encoded_review):\n",
    "    return ' '.join([reverse_word_index.get(i - 3, '?') for i in encoded_review])\n",
    "\n",
    "# Function to preprocess user input\n",
    "def preprocess_text(text):\n",
    "    words = text.lower().split()\n",
    "    encoded_review = [word_index.get(word, 2) + 3 for word in words]\n",
    "    padded_review = sequence.pad_sequences([encoded_review], maxlen=500)\n",
    "    return padded_review"
   ]
  },
  {
   "cell_type": "code",
   "execution_count": 6,
   "metadata": {},
   "outputs": [],
   "source": [
    "### Prediction  function\n",
    "\n",
    "def predict_sentiment(review):\n",
    "    preprocessed_input=preprocess_text(review)\n",
    "\n",
    "    prediction=model.predict(preprocessed_input)\n",
    "\n",
    "    sentiment = 'Positive' if prediction[0][0] > 0.5 else 'Negative'\n",
    "    \n",
    "    return sentiment, prediction[0][0]\n",
    "\n"
   ]
  },
  {
   "cell_type": "code",
   "execution_count": 7,
   "metadata": {},
   "outputs": [
    {
     "name": "stdout",
     "output_type": "stream",
     "text": [
      "\u001b[1m1/1\u001b[0m \u001b[32m━━━━━━━━━━━━━━━━━━━━\u001b[0m\u001b[37m\u001b[0m \u001b[1m0s\u001b[0m 194ms/step\n",
      "Review: This movie was fantastic! The acting was great and the plot was thrilling.\n",
      "Sentiment: Negative\n",
      "Prediction Score: 0.3720592260360718\n"
     ]
    }
   ],
   "source": [
    "# Step 4: User Input and Prediction\n",
    "# Example review for prediction\n",
    "example_review = \"This movie was fantastic! The acting was great and the plot was thrilling.\"\n",
    "\n",
    "sentiment,score=predict_sentiment(example_review)\n",
    "\n",
    "print(f'Review: {example_review}')\n",
    "print(f'Sentiment: {sentiment}')\n",
    "print(f'Prediction Score: {score}')"
   ]
  },
  {
   "cell_type": "code",
   "execution_count": null,
   "metadata": {},
   "outputs": [],
   "source": []
  },
  {
   "cell_type": "code",
   "execution_count": null,
   "metadata": {},
   "outputs": [],
   "source": []
  },
  {
   "cell_type": "code",
   "execution_count": null,
   "metadata": {},
   "outputs": [],
   "source": []
  },
  {
   "cell_type": "code",
   "execution_count": null,
   "metadata": {},
   "outputs": [],
   "source": []
  }
 ],
 "metadata": {
  "kernelspec": {
   "display_name": "Python (venv)",
   "language": "python",
   "name": "venv"
  },
  "language_info": {
   "codemirror_mode": {
    "name": "ipython",
    "version": 3
   },
   "file_extension": ".py",
   "mimetype": "text/x-python",
   "name": "python",
   "nbconvert_exporter": "python",
   "pygments_lexer": "ipython3",
   "version": "3.11.0"
  }
 },
 "nbformat": 4,
 "nbformat_minor": 2
}
